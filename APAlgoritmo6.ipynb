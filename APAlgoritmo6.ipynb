{
  "nbformat": 4,
  "nbformat_minor": 0,
  "metadata": {
    "colab": {
      "provenance": []
    },
    "kernelspec": {
      "name": "python3",
      "display_name": "Python 3"
    },
    "language_info": {
      "name": "python"
    }
  },
  "cells": [
    {
      "cell_type": "code",
      "execution_count": null,
      "metadata": {
        "colab": {
          "base_uri": "https://localhost:8080/"
        },
        "id": "317jv2SpahWE",
        "outputId": "72163524-78f9-481a-d048-e5a2f61cf966"
      },
      "outputs": [
        {
          "output_type": "stream",
          "name": "stdout",
          "text": [
            "0  5  15  10   \n",
            "20  0  10  5   \n",
            "30  35  0  15   \n",
            "15  20  5  0   \n",
            "Tempo de execução: 3.0279159545898438e-05 segundos\n"
          ]
        }
      ],
      "source": [
        "import time\n",
        "\n",
        "nV = 4\n",
        "INF = 999\n",
        "\n",
        "def floyd(G):\n",
        "    dist = list(map(lambda p: list(map(lambda q: q, p)), G))\n",
        "\n",
        "    start_time = time.time()\n",
        "\n",
        "    for r in range(nV):\n",
        "        for p in range(nV):\n",
        "            for q in range(nV):\n",
        "                dist[p][q] = min(dist[p][q], dist[p][r] + dist[r][q])\n",
        "\n",
        "    end_time = time.time()\n",
        "\n",
        "    sol(dist)\n",
        "\n",
        "    execution_time = end_time - start_time\n",
        "    print(\"Tempo de execução:\", execution_time, \"segundos\")\n",
        "\n",
        "def sol(dist):\n",
        "    for p in range(nV):\n",
        "        for q in range(nV):\n",
        "            if dist[p][q] == INF:\n",
        "                print(\"INF\", end=\" \")\n",
        "            else:\n",
        "                print(dist[p][q], end=\"  \")\n",
        "        print(\" \")\n",
        "\n",
        "G = [[0, 5, INF, INF],\n",
        "     [50, 0, 15, 5],\n",
        "     [30, INF, 0, 15],\n",
        "     [15, INF, 5, 0]]\n",
        "floyd(G)"
      ]
    },
    {
      "cell_type": "markdown",
      "source": [
        "O algoritmo que implementa a busca em menor caminho possui complexidade de tempo O(n**3), n é o número de vértices do grafo. O tempo de execução cresce de forma cúbica quanto mais vértices o grafo tem."
      ],
      "metadata": {
        "id": "pk0mFh71d7wv"
      }
    },
    {
      "cell_type": "code",
      "source": [
        "import math\n",
        "import time\n",
        "\n",
        "def sao_primos_entre_si(a, b):\n",
        "    start_time = time.time()\n",
        "    mdc = math.gcd(a, b)\n",
        "    end_time = time.time()\n",
        "\n",
        "    execution_time = end_time - start_time\n",
        "\n",
        "    return mdc == 1, execution_time\n",
        "\n",
        "numero1 = 15\n",
        "numero2 = 28\n",
        "\n",
        "resultado, tempo_execucao = sao_primos_entre_si(numero1, numero2)\n",
        "\n",
        "if resultado:\n",
        "    print(f'{numero1} e {numero2} são primos entre si')\n",
        "else:\n",
        "    print(f'{numero1} e {numero2} não são primos entre si')"
      ],
      "metadata": {
        "colab": {
          "base_uri": "https://localhost:8080/"
        },
        "id": "tnq4GJhgfLFT",
        "outputId": "ae3959db-996c-41e6-f489-2199e4389fe1"
      },
      "execution_count": null,
      "outputs": [
        {
          "output_type": "stream",
          "name": "stdout",
          "text": [
            "15 e 28 são primos entre si\n"
          ]
        }
      ]
    },
    {
      "cell_type": "markdown",
      "source": [
        "O algoritmo que verifica se dois números são pares entre si possui complexidade de tempo O(log(min(a,b))), a e b sendo os números de entrada. O tempo de execução cresce a medida que os números inseridos aumentam, sendo o menor tempo se forem dois números pequenos."
      ],
      "metadata": {
        "id": "OWrR44l3gR7e"
      }
    }
  ]
}