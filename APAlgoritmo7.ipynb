{
  "nbformat": 4,
  "nbformat_minor": 0,
  "metadata": {
    "colab": {
      "provenance": []
    },
    "kernelspec": {
      "name": "python3",
      "display_name": "Python 3"
    },
    "language_info": {
      "name": "python"
    }
  },
  "cells": [
    {
      "cell_type": "markdown",
      "source": [
        "**GRAFO CAMINHO HAMILTONIANO**"
      ],
      "metadata": {
        "id": "lZUWZzTGrHLF"
      }
    },
    {
      "cell_type": "code",
      "source": [
        "pip install networkx"
      ],
      "metadata": {
        "colab": {
          "base_uri": "https://localhost:8080/"
        },
        "id": "S3JugqrlmJbP",
        "outputId": "5a6337ad-6590-4667-b40c-3708cd103d3f"
      },
      "execution_count": null,
      "outputs": [
        {
          "output_type": "stream",
          "name": "stdout",
          "text": [
            "Requirement already satisfied: networkx in /usr/local/lib/python3.10/dist-packages (3.2)\n"
          ]
        }
      ]
    },
    {
      "cell_type": "code",
      "source": [
        "pip install matplotlib"
      ],
      "metadata": {
        "colab": {
          "base_uri": "https://localhost:8080/"
        },
        "id": "69YvSY1Sn8d7",
        "outputId": "33b26845-edfd-47ea-e17c-11c9c8c63a9a"
      },
      "execution_count": null,
      "outputs": [
        {
          "output_type": "stream",
          "name": "stdout",
          "text": [
            "Requirement already satisfied: matplotlib in /usr/local/lib/python3.10/dist-packages (3.7.1)\n",
            "Requirement already satisfied: contourpy>=1.0.1 in /usr/local/lib/python3.10/dist-packages (from matplotlib) (1.1.1)\n",
            "Requirement already satisfied: cycler>=0.10 in /usr/local/lib/python3.10/dist-packages (from matplotlib) (0.12.1)\n",
            "Requirement already satisfied: fonttools>=4.22.0 in /usr/local/lib/python3.10/dist-packages (from matplotlib) (4.43.1)\n",
            "Requirement already satisfied: kiwisolver>=1.0.1 in /usr/local/lib/python3.10/dist-packages (from matplotlib) (1.4.5)\n",
            "Requirement already satisfied: numpy>=1.20 in /usr/local/lib/python3.10/dist-packages (from matplotlib) (1.23.5)\n",
            "Requirement already satisfied: packaging>=20.0 in /usr/local/lib/python3.10/dist-packages (from matplotlib) (23.2)\n",
            "Requirement already satisfied: pillow>=6.2.0 in /usr/local/lib/python3.10/dist-packages (from matplotlib) (9.4.0)\n",
            "Requirement already satisfied: pyparsing>=2.3.1 in /usr/local/lib/python3.10/dist-packages (from matplotlib) (3.1.1)\n",
            "Requirement already satisfied: python-dateutil>=2.7 in /usr/local/lib/python3.10/dist-packages (from matplotlib) (2.8.2)\n",
            "Requirement already satisfied: six>=1.5 in /usr/local/lib/python3.10/dist-packages (from python-dateutil>=2.7->matplotlib) (1.16.0)\n"
          ]
        }
      ]
    },
    {
      "cell_type": "code",
      "source": [
        "import networkx as nx\n",
        "import matplotlib.pyplot as plt\n",
        "\n",
        "G = nx.Graph()\n",
        "\n",
        "G.add_node(\"b\")\n",
        "G.add_node(\"a\")\n",
        "G.add_node(\"c\")\n",
        "G.add_node(\"d\")\n",
        "G.add_node(\"f\")\n",
        "G.add_node(\"e\")\n",
        "\n",
        "G.add_edge(\"b\", \"a\")\n",
        "G.add_edge(\"a\", \"c\")\n",
        "G.add_edge(\"c\", \"d\")\n",
        "G.add_edge(\"d\", \"f\")\n",
        "G.add_edge(\"f\", \"e\")\n",
        "\n",
        "pos = {\n",
        "    \"b\": (0, 0),\n",
        "    \"a\": (-1, 0),\n",
        "    \"c\": (-1, -1),\n",
        "    \"d\": (0, -1),\n",
        "    \"f\": (1, -1),\n",
        "    \"e\": (1, 0),\n",
        "}\n",
        "\n",
        "nx.draw(G, pos, with_labels=True, node_size=500, node_color=\"skyblue\")\n",
        "plt.title(\"Problema Caminho Hamiltoniano\")\n",
        "plt.axis(\"off\")\n",
        "plt.show()"
      ],
      "metadata": {
        "colab": {
          "base_uri": "https://localhost:8080/",
          "height": 539
        },
        "id": "Os661CAAoPBJ",
        "outputId": "6a5f5c4d-4e62-4035-f8b0-d719783ae449"
      },
      "execution_count": null,
      "outputs": [
        {
          "output_type": "display_data",
          "data": {
            "text/plain": [
              "<Figure size 640x480 with 1 Axes>"
            ],
            "image/png": "[encoded data removed]"
          },
          "metadata": {}
        }
      ]
    },
    {
      "cell_type": "code",
      "source": [
        "import networkx as nx\n",
        "\n",
        "G = nx.Graph()\n",
        "G.add_node(\"b\")\n",
        "G.add_node(\"a\")\n",
        "G.add_node(\"c\")\n",
        "G.add_node(\"d\")\n",
        "G.add_node(\"f\")\n",
        "G.add_node(\"e\")\n",
        "G.add_edge(\"b\", \"a\")\n",
        "G.add_edge(\"a\", \"c\")\n",
        "G.add_edge(\"c\", \"d\")\n",
        "G.add_edge(\"d\", \"f\")\n",
        "G.add_edge(\"f\", \"e\")\n",
        "\n",
        "cliques = list(nx.find_cliques(G))\n",
        "max_clique = max(cliques, key=len)\n",
        "\n",
        "print(\"Clique:\", max_clique)"
      ],
      "metadata": {
        "colab": {
          "base_uri": "https://localhost:8080/"
        },
        "id": "GpnTP2zko9Sx",
        "outputId": "2af6b7cc-5982-4041-ab8e-df786efa2586"
      },
      "execution_count": null,
      "outputs": [
        {
          "output_type": "stream",
          "name": "stdout",
          "text": [
            "Clique: ['f', 'd']\n"
          ]
        }
      ]
    },
    {
      "cell_type": "markdown",
      "source": [
        "**GRAFO COM K = 4**"
      ],
      "metadata": {
        "id": "zOLigGRuvbl9"
      }
    },
    {
      "cell_type": "code",
      "source": [
        "def has_clique(graph, k, clique=[]):\n",
        "    if k == 0:\n",
        "        return True\n",
        "    if not clique:\n",
        "        for node in graph:\n",
        "            if has_clique(graph, k - 1, clique + [node]):\n",
        "                return True\n",
        "    else:\n",
        "        for node in clique[-1:]:\n",
        "            neighbors = set(graph[node]) - set(clique)\n",
        "            for neighbor in neighbors:\n",
        "                if has_clique(graph, k - 1, clique + [neighbor]):\n",
        "                    return True\n",
        "    return False\n",
        "\n",
        "graph = {\n",
        "    'a': ['b'],\n",
        "    'b': ['a', 'c'],\n",
        "    'c': ['b', 'd', 'e'],\n",
        "    'd': ['c'],\n",
        "    'e': ['c'],\n",
        "    'f': []\n",
        "}\n",
        "\n",
        "k = 4\n",
        "\n",
        "if has_clique(graph, k):\n",
        "    print(\"O grafo possui clique de tamanho >= k\")\n",
        "else:\n",
        "    print(\"O grafo não possui clique de tamanho >= k\")"
      ],
      "metadata": {
        "colab": {
          "base_uri": "https://localhost:8080/"
        },
        "id": "My0YMnX3vedF",
        "outputId": "0ec5c284-2594-41b9-eb71-d707e8e51c98"
      },
      "execution_count": null,
      "outputs": [
        {
          "output_type": "stream",
          "name": "stdout",
          "text": [
            "O grafo possui clique de tamanho >= k\n"
          ]
        }
      ]
    },
    {
      "cell_type": "markdown",
      "source": [
        "**GRAFO COM K = 2**"
      ],
      "metadata": {
        "id": "enrH3cv6vm_k"
      }
    },
    {
      "cell_type": "code",
      "source": [
        "def has_independent_set(graph, k, independent_set=[]):\n",
        "    if k == 0:\n",
        "        return True\n",
        "    if not independent_set:\n",
        "        for node in graph:\n",
        "            if has_independent_set(graph, k - 1, independent_set + [node]):\n",
        "                return True\n",
        "    else:\n",
        "        for node in graph:\n",
        "            is_independent = all(node not in graph[adj_node] for adj_node in independent_set)\n",
        "            if is_independent and has_independent_set(graph, k - 1, independent_set + [node]):\n",
        "                return True\n",
        "    return False\n",
        "\n",
        "graph = {\n",
        "    'a': ['b', 'c'],\n",
        "    'b': ['a', 'c'],\n",
        "    'c': ['a', 'b', 'd', 'e'],\n",
        "    'd': ['c'],\n",
        "    'e': ['c'],\n",
        "    'f': []\n",
        "}\n",
        "\n",
        "k = 2\n",
        "\n",
        "if has_independent_set(graph, k):\n",
        "    print(\"O grafo possui um conjunto independente de vértices de tamanho >= k\")\n",
        "else:\n",
        "    print(\"O grafo não possui um conjunto independente de vértices de tamanho >= k\")\n"
      ],
      "metadata": {
        "colab": {
          "base_uri": "https://localhost:8080/"
        },
        "id": "IDj5t_szvsET",
        "outputId": "c53b5ecc-5679-4d09-9bbb-8360c41de57b"
      },
      "execution_count": null,
      "outputs": [
        {
          "output_type": "stream",
          "name": "stdout",
          "text": [
            "O grafo possui um conjunto independente de vértices de tamanho >= k\n"
          ]
        }
      ]
    },
    {
      "cell_type": "markdown",
      "source": [
        "**COLORAÇÃO DE GRAFOS**"
      ],
      "metadata": {
        "id": "ebh0jR7Cv6pk"
      }
    },
    {
      "cell_type": "code",
      "source": [
        "import networkx as nx\n",
        "import matplotlib.pyplot as plt\n",
        "\n",
        "G = nx.Graph()\n",
        "G.add_nodes_from(['a', 'b', 'c', 'd', 'e', 'f'])\n",
        "G.add_edges_from([('a', 'b'), ('a', 'c'), ('a', 'd'), ('a', 'e'), ('a', 'f')])\n",
        "\n",
        "coloring = nx.coloring.greedy_color(G, strategy=\"largest_first\")\n",
        "\n",
        "num_colors = max(coloring.values()) + 1\n",
        "\n",
        "print(\"Número de cores:\", num_colors)\n",
        "\n",
        "pos = nx.spring_layout(G)\n",
        "node_colors = [coloring[node] for node in G.nodes]\n",
        "nx.draw(G, pos, with_labels=True, node_color=node_colors, cmap=plt.get_cmap(\"viridis\"))\n",
        "plt.title(\"Coloração de Vértices do Grafo\")\n",
        "plt.show()"
      ],
      "metadata": {
        "colab": {
          "base_uri": "https://localhost:8080/",
          "height": 556
        },
        "id": "SK-C4_hytAQk",
        "outputId": "d31e303a-fa17-4b07-e633-275f2d43a63c"
      },
      "execution_count": null,
      "outputs": [
        {
          "output_type": "stream",
          "name": "stdout",
          "text": [
            "Número de cores: 2\n"
          ]
        },
        {
          "output_type": "display_data",
          "data": {
            "text/plain": [
              "<Figure size 640x480 with 1 Axes>"
            ],
            "image/png": "[encoded data removed]"
          },
          "metadata": {}
        }
      ]
    }
  ]
}