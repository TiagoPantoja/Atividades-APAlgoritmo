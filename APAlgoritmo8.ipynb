{
  "nbformat": 4,
  "nbformat_minor": 0,
  "metadata": {
    "colab": {
      "provenance": []
    },
    "kernelspec": {
      "name": "python3",
      "display_name": "Python 3"
    },
    "language_info": {
      "name": "python"
    }
  },
  "cells": [
    {
      "cell_type": "markdown",
      "source": [
        "(1) Pontos positivos da Programação Dinâmica são a eficiência no tempo de execução, e o desenvolvimento de um código mais simples e objetivo, utilizando recursão para tornar ele mais eficiente, e podendo ser aplicado a vários problemas.\n",
        "\n",
        "Os pontos negativos são o fato de consumir muita memória e da implementação da Programação Dinâmica ser um pouco complexa, por envolver recursões e memorizações, o que é uma tarefa complexa e não é simples de ser implementada."
      ],
      "metadata": {
        "id": "3ZQsBFLCabIO"
      }
    },
    {
      "cell_type": "markdown",
      "source": [
        "(2) Utilizar da Programação Dinâmica para criar um algoritmo que calcula o fatorial de um número não vale a pena, pois calcular o fatorial de um número é simples e pode ser feito por meio de uma recursão simples ou por iterações, sem necessitar da Programação Dinâmica."
      ],
      "metadata": {
        "id": "8RSd9pq2bRM2"
      }
    },
    {
      "cell_type": "markdown",
      "source": [
        "(3)\n",
        "a) A caracterização da Subestrutura Ótima é o número de vezes que o número 1 se repete\n",
        "b) A função recursiva para calcular o número, em Python, pode ser escrita como:"
      ],
      "metadata": {
        "id": "e5X8mcIscm8q"
      }
    },
    {
      "cell_type": "code",
      "source": [
        "def count_ones(a, b):\n",
        "    if a > b:\n",
        "        return 0\n",
        "    else:\n",
        "        return count_ones(a, b-1) + count_digit_one(b)\n",
        "\n",
        "def count_digit_one(num):\n",
        "    count = 0\n",
        "    while num > 0:\n",
        "        if num % 10 == 1:\n",
        "            count += 1\n",
        "        num //= 10\n",
        "    return count"
      ],
      "metadata": {
        "id": "uvewqbkEc0CR"
      },
      "execution_count": null,
      "outputs": []
    },
    {
      "cell_type": "markdown",
      "source": [
        "c) A complexidade do algoritmo é (log b), pois cada vez que o algoritmo utiliza recursão o tamanho do algoritmo é reduzido pela metade"
      ],
      "metadata": {
        "id": "RwEFWMcac3VB"
      }
    },
    {
      "cell_type": "markdown",
      "source": [
        "4) O termo \"Programação Dinâmica\" foi utilizado pelo seu criador para que o termo soasse mais aceitável para os padrões da época, aproveitando que o termo \"dinâmico\" estava em alta na física para aplicar uma conotação similar na programação."
      ],
      "metadata": {
        "id": "2q-EgoYCdFDo"
      }
    }
  ]
}